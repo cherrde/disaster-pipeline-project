{
 "cells": [
  {
   "cell_type": "markdown",
   "metadata": {},
   "source": [
    "# ML Pipeline Preparation\n",
    "Follow the instructions below to help you create your ML pipeline.\n",
    "### 1. Import libraries and load data from database.\n",
    "- Import Python libraries\n",
    "- Load dataset from database with [`read_sql_table`](https://pandas.pydata.org/pandas-docs/stable/generated/pandas.read_sql_table.html)\n",
    "- Define feature and target variables X and Y"
   ]
  },
  {
   "cell_type": "code",
   "execution_count": 30,
   "metadata": {},
   "outputs": [
    {
     "name": "stdout",
     "output_type": "stream",
     "text": [
      "[nltk_data] Downloading package punkt to /root/nltk_data...\n",
      "[nltk_data]   Package punkt is already up-to-date!\n",
      "[nltk_data] Downloading package wordnet to /root/nltk_data...\n",
      "[nltk_data]   Package wordnet is already up-to-date!\n",
      "[nltk_data] Downloading package averaged_perceptron_tagger to\n",
      "[nltk_data]     /root/nltk_data...\n",
      "[nltk_data]   Package averaged_perceptron_tagger is already up-to-\n",
      "[nltk_data]       date!\n",
      "[nltk_data] Downloading package stopwords to /root/nltk_data...\n",
      "[nltk_data]   Package stopwords is already up-to-date!\n"
     ]
    }
   ],
   "source": [
    "# import libraries\n",
    "import nltk\n",
    "nltk.download(['punkt', 'wordnet', 'averaged_perceptron_tagger', 'stopwords'])\n",
    "\n",
    "import re\n",
    "import numpy as np\n",
    "import pandas as pd\n",
    "import pickle\n",
    "\n",
    "from sqlalchemy import create_engine\n",
    "\n",
    "from nltk.tokenize import word_tokenize\n",
    "from nltk.stem import WordNetLemmatizer\n",
    "from nltk.corpus import stopwords\n",
    "from nltk.stem.porter import PorterStemmer\n",
    "\n",
    "from sklearn.multioutput import MultiOutputClassifier\n",
    "from sklearn.metrics import classification_report\n",
    "\n",
    "from sklearn.metrics import confusion_matrix\n",
    "from sklearn.model_selection import GridSearchCV\n",
    "from sklearn.ensemble import RandomForestClassifier, AdaBoostClassifier\n",
    "from sklearn.tree import DecisionTreeClassifier\n",
    "from sklearn.model_selection import train_test_split\n",
    "# from sklearn.pipeline import Pipeline, FeatureUnion\n",
    "# from sklearn.base import BaseEstimator, TransformerMixin\n",
    "from sklearn.pipeline import Pipeline\n",
    "from sklearn.feature_extraction.text import CountVectorizer, TfidfTransformer"
   ]
  },
  {
   "cell_type": "code",
   "execution_count": 2,
   "metadata": {},
   "outputs": [],
   "source": [
    "# load data from database\n",
    "engine = create_engine('sqlite:///InsertDatabaseName.db')\n",
    "df = pd.read_sql(\"SELECT * FROM InsertTableName\", engine)\n",
    "X = df['message']\n",
    "Y = df.iloc[:, 4:]"
   ]
  },
  {
   "cell_type": "markdown",
   "metadata": {},
   "source": [
    "### 2. Write a tokenization function to process your text data"
   ]
  },
  {
   "cell_type": "code",
   "execution_count": 3,
   "metadata": {},
   "outputs": [],
   "source": [
    "def tokenize(text):\n",
    "    text = re.sub(r\"[^a-zA-Z0-9]\", \" \", str(text))\n",
    "\n",
    "    words = word_tokenize(text)\n",
    "    \n",
    "    words = [w for w in words if w not in stopwords.words(\"english\")]\n",
    "    \n",
    "    stemmed = [PorterStemmer().stem(w) for w in words]\n",
    "    \n",
    "    lemmatizer = WordNetLemmatizer()\n",
    "    \n",
    "    clean_tokens = []\n",
    "    for words in words:\n",
    "        clean_tok = lemmatizer.lemmatize(words).lower().strip()\n",
    "        clean_tokens.append(clean_tok)\n",
    "\n",
    "    return clean_tokens"
   ]
  },
  {
   "cell_type": "markdown",
   "metadata": {},
   "source": [
    "### 3. Build a machine learning pipeline\n",
    "This machine pipeline should take in the `message` column as input and output classification results on the other 36 categories in the dataset. You may find the [MultiOutputClassifier](http://scikit-learn.org/stable/modules/generated/sklearn.multioutput.MultiOutputClassifier.html) helpful for predicting multiple target variables."
   ]
  },
  {
   "cell_type": "code",
   "execution_count": 4,
   "metadata": {},
   "outputs": [],
   "source": [
    "pipeline = Pipeline([\n",
    "    ('vect', CountVectorizer(tokenizer=tokenize)),\n",
    "    ('tfidf', TfidfTransformer()),\n",
    "    ('clf', MultiOutputClassifier(RandomForestClassifier()))])"
   ]
  },
  {
   "cell_type": "markdown",
   "metadata": {},
   "source": [
    "### 4. Train pipeline\n",
    "- Split data into train and test sets\n",
    "- Train pipeline"
   ]
  },
  {
   "cell_type": "code",
   "execution_count": 31,
   "metadata": {},
   "outputs": [
    {
     "data": {
      "text/plain": [
       "Pipeline(memory=None,\n",
       "     steps=[('vect', CountVectorizer(analyzer='word', binary=False, decode_error='strict',\n",
       "        dtype=<class 'numpy.int64'>, encoding='utf-8', input='content',\n",
       "        lowercase=True, max_df=1.0, max_features=None, min_df=1,\n",
       "        ngram_range=(1, 1), preprocessor=None, stop_words=None,\n",
       "        strip...oob_score=False, random_state=None, verbose=0,\n",
       "            warm_start=False),\n",
       "           n_jobs=1))])"
      ]
     },
     "execution_count": 31,
     "metadata": {},
     "output_type": "execute_result"
    }
   ],
   "source": [
    "X_train, X_test, y_train, y_test = train_test_split(X, Y, test_size=0.3, random_state=42) \n",
    "pipeline.fit(X_train, y_train)"
   ]
  },
  {
   "cell_type": "markdown",
   "metadata": {},
   "source": [
    "### 5. Test your model\n",
    "Report the f1 score, precision and recall for each output category of the dataset. You can do this by iterating through the columns and calling sklearn's `classification_report` on each."
   ]
  },
  {
   "cell_type": "code",
   "execution_count": 6,
   "metadata": {},
   "outputs": [
    {
     "name": "stdout",
     "output_type": "stream",
     "text": [
      "                        precision    recall  f1-score   support\n",
      "\n",
      "               related       0.84      0.91      0.88      5992\n",
      "               request       0.80      0.42      0.55      1332\n",
      "                 offer       0.00      0.00      0.00        36\n",
      "           aid_related       0.75      0.59      0.66      3219\n",
      "          medical_help       0.47      0.07      0.13       638\n",
      "      medical_products       0.75      0.11      0.20       418\n",
      "     search_and_rescue       0.57      0.04      0.08       192\n",
      "              security       0.00      0.00      0.00       144\n",
      "              military       0.56      0.09      0.15       245\n",
      "           child_alone       0.00      0.00      0.00         0\n",
      "                 water       0.80      0.31      0.44       500\n",
      "                  food       0.84      0.38      0.52       878\n",
      "               shelter       0.81      0.29      0.42       705\n",
      "              clothing       0.92      0.10      0.19       115\n",
      "                 money       0.55      0.04      0.07       170\n",
      "        missing_people       1.00      0.01      0.02        92\n",
      "              refugees       0.68      0.06      0.11       260\n",
      "                 death       0.75      0.20      0.32       366\n",
      "             other_aid       0.48      0.05      0.10      1033\n",
      "infrastructure_related       0.33      0.01      0.02       505\n",
      "             transport       0.71      0.08      0.15       362\n",
      "             buildings       0.73      0.11      0.20       392\n",
      "           electricity       0.58      0.04      0.08       168\n",
      "                 tools       0.00      0.00      0.00        48\n",
      "             hospitals       0.00      0.00      0.00        78\n",
      "                 shops       0.00      0.00      0.00        28\n",
      "           aid_centers       0.00      0.00      0.00       103\n",
      "  other_infrastructure       0.25      0.01      0.01       341\n",
      "       weather_related       0.82      0.61      0.70      2163\n",
      "                floods       0.87      0.40      0.55       623\n",
      "                 storm       0.75      0.45      0.56       738\n",
      "                  fire       0.89      0.10      0.17        83\n",
      "            earthquake       0.88      0.69      0.77       702\n",
      "                  cold       0.80      0.19      0.31       171\n",
      "         other_weather       0.49      0.04      0.08       415\n",
      "         direct_report       0.69      0.30      0.42      1544\n",
      "\n",
      "           avg / total       0.73      0.48      0.54     24799\n",
      "\n"
     ]
    },
    {
     "name": "stderr",
     "output_type": "stream",
     "text": [
      "/opt/conda/lib/python3.6/site-packages/sklearn/metrics/classification.py:1135: UndefinedMetricWarning: Precision and F-score are ill-defined and being set to 0.0 in labels with no predicted samples.\n",
      "  'precision', 'predicted', average, warn_for)\n",
      "/opt/conda/lib/python3.6/site-packages/sklearn/metrics/classification.py:1137: UndefinedMetricWarning: Recall and F-score are ill-defined and being set to 0.0 in labels with no true samples.\n",
      "  'recall', 'true', average, warn_for)\n"
     ]
    }
   ],
   "source": [
    "y_pred_test = pipeline.predict(X_test)\n",
    "print(classification_report(y_test, y_pred_test, target_names=Y.columns.values))"
   ]
  },
  {
   "cell_type": "markdown",
   "metadata": {},
   "source": [
    "### 6. Improve your model\n",
    "Use grid search to find better parameters. "
   ]
  },
  {
   "cell_type": "code",
   "execution_count": 11,
   "metadata": {},
   "outputs": [],
   "source": [
    "pipeline = Pipeline([\n",
    "    ('vect', CountVectorizer(tokenizer=tokenize)),\n",
    "    ('tfidf', TfidfTransformer()),\n",
    "    ('clf', MultiOutputClassifier(RandomForestClassifier()))])\n",
    "\n",
    "#parameters = {'clf__estimator__max_depth': [2, 5, None],\n",
    "    # 'clf__estimator__min_samples_leaf':[1, 5, 10],\n",
    "    #'clf__estimator__criterion': ['gini', 'entropy'] #,\n",
    "    # 'clf__estimator__n_estimators': [10, 20, 50]\n",
    "    #}\n",
    "\n",
    "parameters = {\n",
    "                'clf__estimator__n_estimators': [5],\n",
    "                'clf__estimator__min_samples_split': [2, 3, 4],\n",
    "                'clf__estimator__max_depth': [10]\n",
    "             }\n",
    "cv = GridSearchCV(estimator=pipeline, param_grid=parameters, cv=2, verbose=3)\n",
    "\n",
    "# cv = GridSearchCV(pipeline, param_grid=parameters)  "
   ]
  },
  {
   "cell_type": "markdown",
   "metadata": {},
   "source": [
    "### 7. Test your model\n",
    "Show the accuracy, precision, and recall of the tuned model.  \n",
    "\n",
    "Since this project focuses on code quality, process, and  pipelines, there is no minimum performance metric needed to pass. However, make sure to fine tune your models for accuracy, precision and recall to make your project stand out - especially for your portfolio!"
   ]
  },
  {
   "cell_type": "code",
   "execution_count": 12,
   "metadata": {},
   "outputs": [
    {
     "name": "stdout",
     "output_type": "stream",
     "text": [
      "Fitting 2 folds for each of 3 candidates, totalling 6 fits\n",
      "[CV] clf__estimator__max_depth=10, clf__estimator__min_samples_split=2, clf__estimator__n_estimators=5 \n",
      "[CV]  clf__estimator__max_depth=10, clf__estimator__min_samples_split=2, clf__estimator__n_estimators=5, score=0.1944202266782912, total= 1.7min\n",
      "[CV] clf__estimator__max_depth=10, clf__estimator__min_samples_split=2, clf__estimator__n_estimators=5 \n"
     ]
    },
    {
     "name": "stderr",
     "output_type": "stream",
     "text": [
      "[Parallel(n_jobs=1)]: Done   1 out of   1 | elapsed:  2.5min remaining:    0.0s\n"
     ]
    },
    {
     "name": "stdout",
     "output_type": "stream",
     "text": [
      "[CV]  clf__estimator__max_depth=10, clf__estimator__min_samples_split=2, clf__estimator__n_estimators=5, score=0.18223433242506812, total= 1.7min\n",
      "[CV] clf__estimator__max_depth=10, clf__estimator__min_samples_split=3, clf__estimator__n_estimators=5 \n"
     ]
    },
    {
     "name": "stderr",
     "output_type": "stream",
     "text": [
      "[Parallel(n_jobs=1)]: Done   2 out of   2 | elapsed:  5.1min remaining:    0.0s\n"
     ]
    },
    {
     "name": "stdout",
     "output_type": "stream",
     "text": [
      "[CV]  clf__estimator__max_depth=10, clf__estimator__min_samples_split=3, clf__estimator__n_estimators=5, score=0.1853748910200523, total= 1.7min\n",
      "[CV] clf__estimator__max_depth=10, clf__estimator__min_samples_split=3, clf__estimator__n_estimators=5 \n",
      "[CV]  clf__estimator__max_depth=10, clf__estimator__min_samples_split=3, clf__estimator__n_estimators=5, score=0.19444141689373298, total= 1.7min\n",
      "[CV] clf__estimator__max_depth=10, clf__estimator__min_samples_split=4, clf__estimator__n_estimators=5 \n",
      "[CV]  clf__estimator__max_depth=10, clf__estimator__min_samples_split=4, clf__estimator__n_estimators=5, score=0.1918047079337402, total= 1.7min\n",
      "[CV] clf__estimator__max_depth=10, clf__estimator__min_samples_split=4, clf__estimator__n_estimators=5 \n",
      "[CV]  clf__estimator__max_depth=10, clf__estimator__min_samples_split=4, clf__estimator__n_estimators=5, score=0.18321525885558584, total= 1.7min\n"
     ]
    },
    {
     "name": "stderr",
     "output_type": "stream",
     "text": [
      "[Parallel(n_jobs=1)]: Done   6 out of   6 | elapsed: 15.2min finished\n"
     ]
    },
    {
     "data": {
      "text/plain": [
       "GridSearchCV(cv=2, error_score='raise',\n",
       "       estimator=Pipeline(memory=None,\n",
       "     steps=[('vect', CountVectorizer(analyzer='word', binary=False, decode_error='strict',\n",
       "        dtype=<class 'numpy.int64'>, encoding='utf-8', input='content',\n",
       "        lowercase=True, max_df=1.0, max_features=None, min_df=1,\n",
       "        ngram_range=(1, 1), preprocessor=None, stop_words=None,\n",
       "        strip...oob_score=False, random_state=None, verbose=0,\n",
       "            warm_start=False),\n",
       "           n_jobs=1))]),\n",
       "       fit_params=None, iid=True, n_jobs=1,\n",
       "       param_grid={'clf__estimator__n_estimators': [5], 'clf__estimator__min_samples_split': [2, 3, 4], 'clf__estimator__max_depth': [10]},\n",
       "       pre_dispatch='2*n_jobs', refit=True, return_train_score='warn',\n",
       "       scoring=None, verbose=3)"
      ]
     },
     "execution_count": 12,
     "metadata": {},
     "output_type": "execute_result"
    }
   ],
   "source": [
    "X_train, X_test, y_train, y_test = train_test_split(X, Y, test_size=0.3, random_state=42) \n",
    "cv.fit(X_train, y_train)"
   ]
  },
  {
   "cell_type": "code",
   "execution_count": 13,
   "metadata": {},
   "outputs": [
    {
     "name": "stdout",
     "output_type": "stream",
     "text": [
      "                        precision    recall  f1-score   support\n",
      "\n",
      "               related       0.76      1.00      0.86      5992\n",
      "               request       0.96      0.02      0.03      1332\n",
      "                 offer       0.00      0.00      0.00        36\n",
      "           aid_related       0.72      0.29      0.41      3219\n",
      "          medical_help       0.00      0.00      0.00       638\n",
      "      medical_products       1.00      0.00      0.01       418\n",
      "     search_and_rescue       0.00      0.00      0.00       192\n",
      "              security       0.00      0.00      0.00       144\n",
      "              military       0.00      0.00      0.00       245\n",
      "           child_alone       0.00      0.00      0.00         0\n",
      "                 water       1.00      0.00      0.01       500\n",
      "                  food       0.00      0.00      0.00       878\n",
      "               shelter       1.00      0.00      0.00       705\n",
      "              clothing       0.67      0.02      0.03       115\n",
      "                 money       0.00      0.00      0.00       170\n",
      "        missing_people       0.00      0.00      0.00        92\n",
      "              refugees       0.00      0.00      0.00       260\n",
      "                 death       1.00      0.01      0.01       366\n",
      "             other_aid       0.00      0.00      0.00      1033\n",
      "infrastructure_related       0.00      0.00      0.00       505\n",
      "             transport       0.00      0.00      0.00       362\n",
      "             buildings       0.00      0.00      0.00       392\n",
      "           electricity       0.00      0.00      0.00       168\n",
      "                 tools       0.00      0.00      0.00        48\n",
      "             hospitals       0.00      0.00      0.00        78\n",
      "                 shops       0.00      0.00      0.00        28\n",
      "           aid_centers       0.00      0.00      0.00       103\n",
      "  other_infrastructure       0.00      0.00      0.00       341\n",
      "       weather_related       0.90      0.03      0.05      2163\n",
      "                floods       1.00      0.01      0.02       623\n",
      "                 storm       1.00      0.01      0.01       738\n",
      "                  fire       0.00      0.00      0.00        83\n",
      "            earthquake       0.50      0.00      0.00       702\n",
      "                  cold       0.00      0.00      0.00       171\n",
      "         other_weather       0.00      0.00      0.00       415\n",
      "         direct_report       0.86      0.01      0.02      1544\n",
      "\n",
      "           avg / total       0.61      0.28      0.27     24799\n",
      "\n"
     ]
    },
    {
     "name": "stderr",
     "output_type": "stream",
     "text": [
      "/opt/conda/lib/python3.6/site-packages/sklearn/metrics/classification.py:1135: UndefinedMetricWarning: Precision and F-score are ill-defined and being set to 0.0 in labels with no predicted samples.\n",
      "  'precision', 'predicted', average, warn_for)\n",
      "/opt/conda/lib/python3.6/site-packages/sklearn/metrics/classification.py:1137: UndefinedMetricWarning: Recall and F-score are ill-defined and being set to 0.0 in labels with no true samples.\n",
      "  'recall', 'true', average, warn_for)\n"
     ]
    }
   ],
   "source": [
    "y_pred_test = cv.predict(X_test)\n",
    "print(classification_report(y_test, y_pred_test, target_names=Y.columns.values))"
   ]
  },
  {
   "cell_type": "markdown",
   "metadata": {},
   "source": [
    "### 8. Try improving your model further. Here are a few ideas:\n",
    "* try other machine learning algorithms\n",
    "* add other features besides the TF-IDF"
   ]
  },
  {
   "cell_type": "code",
   "execution_count": 16,
   "metadata": {},
   "outputs": [],
   "source": [
    "# Try and AdaBoostClassifier with some base parameters \n",
    "\n",
    "pipeline2 = Pipeline([\n",
    "    ('vect', CountVectorizer(tokenizer=tokenize)),\n",
    "    ('tfidf', TfidfTransformer()),\n",
    "    ('clf', MultiOutputClassifier(AdaBoostClassifier()))])\n",
    "\n",
    "parameters = {\n",
    "                'clf__estimator__n_estimators': [5],\n",
    "             }\n",
    "cv2 = GridSearchCV(estimator=pipeline2, param_grid=parameters, cv=2, verbose=3)\n",
    "\n",
    "# cv = GridSearchCV(pipeline, param_grid=parameters)  "
   ]
  },
  {
   "cell_type": "code",
   "execution_count": 17,
   "metadata": {},
   "outputs": [
    {
     "name": "stdout",
     "output_type": "stream",
     "text": [
      "Fitting 2 folds for each of 1 candidates, totalling 2 fits\n",
      "[CV] clf__estimator__n_estimators=5 ..................................\n",
      "[CV]  clf__estimator__n_estimators=5, score=0.20717088055797733, total= 1.7min\n",
      "[CV] clf__estimator__n_estimators=5 ..................................\n"
     ]
    },
    {
     "name": "stderr",
     "output_type": "stream",
     "text": [
      "[Parallel(n_jobs=1)]: Done   1 out of   1 | elapsed:  2.6min remaining:    0.0s\n"
     ]
    },
    {
     "name": "stdout",
     "output_type": "stream",
     "text": [
      "[CV]  clf__estimator__n_estimators=5, score=0.19509536784741144, total= 1.8min\n"
     ]
    },
    {
     "name": "stderr",
     "output_type": "stream",
     "text": [
      "[Parallel(n_jobs=1)]: Done   2 out of   2 | elapsed:  5.2min remaining:    0.0s\n",
      "[Parallel(n_jobs=1)]: Done   2 out of   2 | elapsed:  5.2min finished\n"
     ]
    },
    {
     "data": {
      "text/plain": [
       "GridSearchCV(cv=2, error_score='raise',\n",
       "       estimator=Pipeline(memory=None,\n",
       "     steps=[('vect', CountVectorizer(analyzer='word', binary=False, decode_error='strict',\n",
       "        dtype=<class 'numpy.int64'>, encoding='utf-8', input='content',\n",
       "        lowercase=True, max_df=1.0, max_features=None, min_df=1,\n",
       "        ngram_range=(1, 1), preprocessor=None, stop_words=None,\n",
       "        strip...mator=None,\n",
       "          learning_rate=1.0, n_estimators=50, random_state=None),\n",
       "           n_jobs=1))]),\n",
       "       fit_params=None, iid=True, n_jobs=1,\n",
       "       param_grid={'clf__estimator__n_estimators': [5]},\n",
       "       pre_dispatch='2*n_jobs', refit=True, return_train_score='warn',\n",
       "       scoring=None, verbose=3)"
      ]
     },
     "execution_count": 17,
     "metadata": {},
     "output_type": "execute_result"
    }
   ],
   "source": [
    "X_train, X_test, y_train, y_test = train_test_split(X, Y, test_size=0.3, random_state=42) \n",
    "cv2.fit(X_train, y_train)"
   ]
  },
  {
   "cell_type": "code",
   "execution_count": 18,
   "metadata": {},
   "outputs": [
    {
     "name": "stdout",
     "output_type": "stream",
     "text": [
      "                        precision    recall  f1-score   support\n",
      "\n",
      "               related       0.76      1.00      0.86      5992\n",
      "               request       0.83      0.34      0.49      1332\n",
      "                 offer       0.00      0.00      0.00        36\n",
      "           aid_related       0.67      0.52      0.59      3219\n",
      "          medical_help       0.59      0.17      0.26       638\n",
      "      medical_products       0.67      0.21      0.31       418\n",
      "     search_and_rescue       0.60      0.23      0.34       192\n",
      "              security       0.20      0.02      0.04       144\n",
      "              military       0.58      0.06      0.10       245\n",
      "           child_alone       0.00      0.00      0.00         0\n",
      "                 water       0.84      0.45      0.59       500\n",
      "                  food       0.80      0.77      0.78       878\n",
      "               shelter       0.82      0.47      0.60       705\n",
      "              clothing       0.71      0.53      0.61       115\n",
      "                 money       0.48      0.16      0.24       170\n",
      "        missing_people       0.84      0.29      0.44        92\n",
      "              refugees       0.60      0.25      0.35       260\n",
      "                 death       0.79      0.41      0.54       366\n",
      "             other_aid       0.58      0.08      0.14      1033\n",
      "infrastructure_related       0.64      0.06      0.11       505\n",
      "             transport       0.60      0.28      0.38       362\n",
      "             buildings       0.81      0.18      0.29       392\n",
      "           electricity       0.70      0.11      0.19       168\n",
      "                 tools       0.25      0.02      0.04        48\n",
      "             hospitals       0.28      0.06      0.10        78\n",
      "                 shops       0.00      0.00      0.00        28\n",
      "           aid_centers       0.38      0.06      0.10       103\n",
      "  other_infrastructure       0.59      0.03      0.06       341\n",
      "       weather_related       0.88      0.49      0.63      2163\n",
      "                floods       0.88      0.54      0.67       623\n",
      "                 storm       0.76      0.53      0.62       738\n",
      "                  fire       0.90      0.11      0.19        83\n",
      "            earthquake       0.88      0.82      0.85       702\n",
      "                  cold       0.74      0.18      0.29       171\n",
      "         other_weather       0.34      0.02      0.05       415\n",
      "         direct_report       0.74      0.27      0.40      1544\n",
      "\n",
      "           avg / total       0.73      0.53      0.56     24799\n",
      "\n"
     ]
    },
    {
     "name": "stderr",
     "output_type": "stream",
     "text": [
      "/opt/conda/lib/python3.6/site-packages/sklearn/metrics/classification.py:1135: UndefinedMetricWarning: Precision and F-score are ill-defined and being set to 0.0 in labels with no predicted samples.\n",
      "  'precision', 'predicted', average, warn_for)\n",
      "/opt/conda/lib/python3.6/site-packages/sklearn/metrics/classification.py:1137: UndefinedMetricWarning: Recall and F-score are ill-defined and being set to 0.0 in labels with no true samples.\n",
      "  'recall', 'true', average, warn_for)\n"
     ]
    }
   ],
   "source": [
    "y_pred_test = cv2.predict(X_test)\n",
    "print(classification_report(y_test, y_pred_test, target_names=Y.columns.values))"
   ]
  },
  {
   "cell_type": "code",
   "execution_count": 23,
   "metadata": {},
   "outputs": [],
   "source": [
    "# Try a DecisionTreeClassifier to see if we have different results\n",
    "\n",
    "pipeline3 = Pipeline([\n",
    "    ('vect', CountVectorizer(tokenizer=tokenize)),\n",
    "    ('tfidf', TfidfTransformer()),\n",
    "    ('clf', MultiOutputClassifier(DecisionTreeClassifier()))])\n",
    "\n",
    "parameters = {\n",
    "                'clf__estimator__max_depth': [5]\n",
    "             }\n",
    "cv3 = GridSearchCV(estimator=pipeline3, param_grid=parameters, cv=2, verbose=3)\n",
    "\n",
    "# cv = GridSearchCV(pipeline, param_grid=parameters)  "
   ]
  },
  {
   "cell_type": "code",
   "execution_count": 24,
   "metadata": {},
   "outputs": [
    {
     "name": "stdout",
     "output_type": "stream",
     "text": [
      "Fitting 2 folds for each of 1 candidates, totalling 2 fits\n",
      "[CV] clf__estimator__max_depth=5 .....................................\n",
      "[CV]  clf__estimator__max_depth=5, score=0.20597210113339146, total= 1.7min\n",
      "[CV] clf__estimator__max_depth=5 .....................................\n"
     ]
    },
    {
     "name": "stderr",
     "output_type": "stream",
     "text": [
      "[Parallel(n_jobs=1)]: Done   1 out of   1 | elapsed:  2.5min remaining:    0.0s\n"
     ]
    },
    {
     "name": "stdout",
     "output_type": "stream",
     "text": [
      "[CV]  clf__estimator__max_depth=5, score=0.21831062670299728, total= 1.7min\n"
     ]
    },
    {
     "name": "stderr",
     "output_type": "stream",
     "text": [
      "[Parallel(n_jobs=1)]: Done   2 out of   2 | elapsed:  5.1min remaining:    0.0s\n",
      "[Parallel(n_jobs=1)]: Done   2 out of   2 | elapsed:  5.1min finished\n"
     ]
    },
    {
     "data": {
      "text/plain": [
       "GridSearchCV(cv=2, error_score='raise',\n",
       "       estimator=Pipeline(memory=None,\n",
       "     steps=[('vect', CountVectorizer(analyzer='word', binary=False, decode_error='strict',\n",
       "        dtype=<class 'numpy.int64'>, encoding='utf-8', input='content',\n",
       "        lowercase=True, max_df=1.0, max_features=None, min_df=1,\n",
       "        ngram_range=(1, 1), preprocessor=None, stop_words=None,\n",
       "        strip...ion_leaf=0.0, presort=False, random_state=None,\n",
       "            splitter='best'),\n",
       "           n_jobs=1))]),\n",
       "       fit_params=None, iid=True, n_jobs=1,\n",
       "       param_grid={'clf__estimator__max_depth': [5]},\n",
       "       pre_dispatch='2*n_jobs', refit=True, return_train_score='warn',\n",
       "       scoring=None, verbose=3)"
      ]
     },
     "execution_count": 24,
     "metadata": {},
     "output_type": "execute_result"
    }
   ],
   "source": [
    "X_train, X_test, y_train, y_test = train_test_split(X, Y, test_size=0.3, random_state=42) \n",
    "cv3.fit(X_train, y_train)"
   ]
  },
  {
   "cell_type": "code",
   "execution_count": 25,
   "metadata": {},
   "outputs": [
    {
     "name": "stdout",
     "output_type": "stream",
     "text": [
      "                        precision    recall  f1-score   support\n",
      "\n",
      "               related       0.79      0.97      0.87      5992\n",
      "               request       0.83      0.38      0.52      1332\n",
      "                 offer       0.00      0.00      0.00        36\n",
      "           aid_related       0.68      0.51      0.58      3219\n",
      "          medical_help       0.60      0.20      0.30       638\n",
      "      medical_products       0.69      0.33      0.44       418\n",
      "     search_and_rescue       0.59      0.23      0.33       192\n",
      "              security       0.14      0.01      0.01       144\n",
      "              military       0.49      0.21      0.29       245\n",
      "           child_alone       0.00      0.00      0.00         0\n",
      "                 water       0.79      0.56      0.65       500\n",
      "                  food       0.80      0.79      0.80       878\n",
      "               shelter       0.77      0.57      0.66       705\n",
      "              clothing       0.73      0.44      0.55       115\n",
      "                 money       0.58      0.22      0.32       170\n",
      "        missing_people       0.74      0.15      0.25        92\n",
      "              refugees       0.58      0.29      0.39       260\n",
      "                 death       0.73      0.53      0.61       366\n",
      "             other_aid       0.51      0.10      0.17      1033\n",
      "infrastructure_related       0.41      0.02      0.04       505\n",
      "             transport       0.66      0.15      0.24       362\n",
      "             buildings       0.77      0.21      0.33       392\n",
      "           electricity       0.79      0.09      0.16       168\n",
      "                 tools       0.00      0.00      0.00        48\n",
      "             hospitals       0.18      0.03      0.04        78\n",
      "                 shops       0.00      0.00      0.00        28\n",
      "           aid_centers       0.24      0.04      0.07       103\n",
      "  other_infrastructure       0.52      0.04      0.08       341\n",
      "       weather_related       0.88      0.48      0.63      2163\n",
      "                floods       0.88      0.53      0.66       623\n",
      "                 storm       0.77      0.59      0.66       738\n",
      "                  fire       0.57      0.36      0.44        83\n",
      "            earthquake       0.88      0.80      0.84       702\n",
      "                  cold       0.76      0.35      0.48       171\n",
      "         other_weather       0.54      0.14      0.22       415\n",
      "         direct_report       0.73      0.29      0.42      1544\n",
      "\n",
      "           avg / total       0.73      0.54      0.58     24799\n",
      "\n"
     ]
    },
    {
     "name": "stderr",
     "output_type": "stream",
     "text": [
      "/opt/conda/lib/python3.6/site-packages/sklearn/metrics/classification.py:1135: UndefinedMetricWarning: Precision and F-score are ill-defined and being set to 0.0 in labels with no predicted samples.\n",
      "  'precision', 'predicted', average, warn_for)\n",
      "/opt/conda/lib/python3.6/site-packages/sklearn/metrics/classification.py:1137: UndefinedMetricWarning: Recall and F-score are ill-defined and being set to 0.0 in labels with no true samples.\n",
      "  'recall', 'true', average, warn_for)\n"
     ]
    }
   ],
   "source": [
    "y_pred_test = cv3.predict(X_test)\n",
    "print(classification_report(y_test, y_pred_test, target_names=Y.columns.values))"
   ]
  },
  {
   "cell_type": "markdown",
   "metadata": {},
   "source": [
    "### 9. Export your model as a pickle file"
   ]
  },
  {
   "cell_type": "code",
   "execution_count": 25,
   "metadata": {},
   "outputs": [],
   "source": [
    "pickle.dump(cv,open('classifier.pkl','wb'))"
   ]
  },
  {
   "cell_type": "markdown",
   "metadata": {},
   "source": [
    "### 10. Use this notebook to complete `train.py`\n",
    "Use the template file attached in the Resources folder to write a script that runs the steps above to create a database and export a model based on a new dataset specified by the user."
   ]
  },
  {
   "cell_type": "code",
   "execution_count": null,
   "metadata": {},
   "outputs": [],
   "source": []
  }
 ],
 "metadata": {
  "kernelspec": {
   "display_name": "Python 3",
   "language": "python",
   "name": "python3"
  },
  "language_info": {
   "codemirror_mode": {
    "name": "ipython",
    "version": 3
   },
   "file_extension": ".py",
   "mimetype": "text/x-python",
   "name": "python",
   "nbconvert_exporter": "python",
   "pygments_lexer": "ipython3",
   "version": "3.6.3"
  }
 },
 "nbformat": 4,
 "nbformat_minor": 2
}
